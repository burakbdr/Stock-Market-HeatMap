{
 "cells": [
  {
   "cell_type": "markdown",
   "metadata": {},
   "source": [
    "# Imports"
   ]
  },
  {
   "cell_type": "code",
   "execution_count": 17,
   "metadata": {},
   "outputs": [],
   "source": [
    "import pandas as pd\n",
    "import requests\n",
    "from plotly import offline\n",
    "import plotly.express as px\n",
    "import plotly.offline as pyo"
   ]
  },
  {
   "cell_type": "code",
   "execution_count": 20,
   "metadata": {},
   "outputs": [
    {
     "name": "stderr",
     "output_type": "stream",
     "text": [
      "/var/folders/0v/n3w11jxs0zxdx0ty34xv_fx40000gn/T/ipykernel_73598/1220006059.py:5: FutureWarning:\n",
      "\n",
      "Passing literal html to 'read_html' is deprecated and will be removed in a future version. To read from a literal string, wrap it in a 'StringIO' object.\n",
      "\n",
      "/var/folders/0v/n3w11jxs0zxdx0ty34xv_fx40000gn/T/ipykernel_73598/1220006059.py:15: FutureWarning:\n",
      "\n",
      "Passing literal html to 'read_html' is deprecated and will be removed in a future version. To read from a literal string, wrap it in a 'StringIO' object.\n",
      "\n"
     ]
    },
    {
     "data": {
      "text/plain": [
       "'/Users/burakbedir/Desktop/B/Project-Search-Docs/heatmap_stock/Stock-Market-HeatMap/grafik.html'"
      ]
     },
     "execution_count": 20,
     "metadata": {},
     "output_type": "execute_result"
    }
   ],
   "source": [
    "# Define the URL\n",
    "url = \"https://www.isyatirim.com.tr/tr-tr/analiz/hisse/Sayfalar/Temel-Degerler-Ve-Oranlar.aspx#page-1\"\n",
    "\n",
    "# Fetch the tables from the web page\n",
    "tables = pd.read_html(requests.get(url).text)[2]\n",
    "\n",
    "# Extract the required tables\n",
    "sektör = pd.DataFrame({\n",
    "    \"Hisse\": tables[\"Kod\"],\n",
    "    \"Sektör\": tables[\"Sektör\"],\n",
    "    \"Piyasa Değeri (mn $)\": tables[\"Piyasa Değeri (mn $)\"]\n",
    "})\n",
    "\n",
    "# Fetch the tables from the web page\n",
    "table_2 = pd.read_html(requests.get(url).text)[7]\n",
    "\n",
    "# Extract the required tables\n",
    "getiri = pd.DataFrame({\n",
    "    \"Hisse\": table_2[\"Kod\"],\n",
    "    \"Getiri (%)\": table_2[\"Günlük Getiri (%)\"] / 100\n",
    "})\n",
    "\n",
    "# Merge the dataframes\n",
    "df = pd.merge(sektör, getiri, on=\"Hisse\")\n",
    "\n",
    "# Clean and convert the \"Piyasa Degeri (mn $)\" column to float\n",
    "df[\"Piyasa Değeri (mn $)\"] = df[\"Piyasa Değeri (mn $)\"].str.replace('.', '').str.replace(',', '.').astype(float)\n",
    "\n",
    "# Define custom color bins\n",
    "renkaralik = [-10, -5, -0.01, 0, 0.01, 5, 10]\n",
    "\n",
    "# Create a \"Renk\" column based on custom color bins\n",
    "df[\"Renk\"] = pd.cut(df[\"Getiri (%)\"], bins=renkaralik, labels=[\"red\", \"indianred\", \"lightpink\", \"lightgreen\", \"lime\", \"green\"])\n",
    "\n",
    "# Create the treemap visualization\n",
    "fig = px.treemap(df, path=[px.Constant(\"Borsa İstanbul\"), \"Sektör\", \"Hisse\"], values=\"Piyasa Değeri (mn $)\",\n",
    "                 color=\"Renk\", custom_data=[\"Getiri (%)\", \"Sektör\"],\n",
    "                 color_discrete_map={\"(?)\": \"#262931\", \"red\": \"red\", \"indianred\": \"indianred\",\n",
    "                                     \"lightpink\": \"lightpink\", \"lightgreen\": \"lightgreen\", \"lime\": \"lime\", \"green\": \"green\"})\n",
    "\n",
    "# Customize hovertemplate\n",
    "fig.update_traces(hovertemplate=\"<br>\".join([\n",
    "    \"Hisse: %{label}\",\n",
    "    \"Piyasa Değeri (mn $): {value}\",\n",
    "    \"Getiri: %{customdata[0]}\",\n",
    "    \"Sektör: %{customdata[1]}\"\n",
    "]))\n",
    "\n",
    "# Set text template for treemap labels\n",
    "fig.data[0].texttemplate = \"<b>%{label}</b><br>%{customdata[0]} %\"\n",
    "\n",
    "# Save the treemap as an HTML file\n",
    "pyo.plot(fig, filename=\"/Users/burakbedir/Desktop/B/Project-Search-Docs/heatmap_stock/Stock-Market-HeatMap/grafik.html\")"
   ]
  }
 ],
 "metadata": {
  "kernelspec": {
   "display_name": ".venv",
   "language": "python",
   "name": "python3"
  },
  "language_info": {
   "codemirror_mode": {
    "name": "ipython",
    "version": 3
   },
   "file_extension": ".py",
   "mimetype": "text/x-python",
   "name": "python",
   "nbconvert_exporter": "python",
   "pygments_lexer": "ipython3",
   "version": "3.11.3"
  }
 },
 "nbformat": 4,
 "nbformat_minor": 2
}
